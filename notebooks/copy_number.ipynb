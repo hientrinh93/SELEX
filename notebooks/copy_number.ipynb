{
 "cells": [
  {
   "cell_type": "markdown",
   "metadata": {},
   "source": [
    "Input is output from mapping.ipynb: sample_hs.mapQ25.ex.fq"
   ]
  },
  {
   "cell_type": "code",
   "execution_count": null,
   "metadata": {},
   "outputs": [],
   "source": [
    "%%bash\n",
    "fastaptamer_count -i sample_hs.mapQ25.ex.fq -o sample_hs.mapQ25.ex.fastaptamer_count.fa\n",
    "perl -ne 'if(/^>(\\S+)/){print \"$1\\n\"}' sample_hs.mapQ25.ex.fastaptamer_count.fa | awk -F '-' '{print $2\"\\t\"$3}' - > sample_hs.mapQ25.ex.fastaptamer_count"
   ]
  },
  {
   "cell_type": "code",
   "execution_count": null,
   "metadata": {},
   "outputs": [],
   "source": [
    "%load_ext rpy2.ipython"
   ]
  },
  {
   "cell_type": "code",
   "execution_count": null,
   "metadata": {},
   "outputs": [],
   "source": [
    "%%R\n",
    "install.packages(\"poweRlaw\")\n",
    "library(poweRlaw)\n",
    "library(ggplot2)\n",
    "library(plyr)\n",
    "library(scales)\n",
    "power_law_line <- function(pl){\n",
    "  #get Xmin fitting power law\n",
    "  xmin <- pl$getXmin()\n",
    "  \n",
    "  #Maximum likelihood estimation (MLE)\n",
    "  #For each value of xmin, the mle will be used\n",
    "  alpha <- pl$getPars()\n",
    "  \n",
    "  #get x\n",
    "  x <- pl$dat\n",
    "  \n",
    "  #data frame plotting power law line\n",
    "  x_axis <- exp(seq(log(xmin),log(max(x)),length.out = 100))\n",
    "  x_axis <- unique(round(x_axis))\n",
    "  y <- 10^(-alpha * (log10(x_axis) - log10(pl$internal$values[xmin])) + log10(pl$internal$freq[xmin]))\n",
    "  line_fit <- data.frame(x_axis, y)\n",
    "  \n",
    "  # Truncate for y < 1, keeping 1 extra\n",
    "  keep <- length(which(line_fit$y >= 1)) + 1\n",
    "  line_fit <- line_fit[1:keep, ]\n",
    "}\n",
    "\n",
    "plot_power_law <- function(filename){\n",
    "  bitmap(paste0(filename,\".tiff\"), res = 600)\n",
    "  freq_table <- read.table(filename)\n",
    "  counts <- count(freq_table$V1)\n",
    "  colnames(counts) <- c('Copy', 'Frequency')\n",
    "  \n",
    "  ####for power law line\n",
    "  counts2 <- counts[counts$Frequency > 1, ]\n",
    "  vals <- rep(counts2$Copy, counts2$Frequency)\n",
    "  pl <- displ$new(vals)\n",
    "  \n",
    "  #set Xmin\n",
    "  xmin <- 5\n",
    "  pl$setXmin(xmin)\n",
    "  \n",
    "  #estimate_pars estimates the distribution’s parameters using their maximum likelihood estimator. \n",
    "  #This estimate is conditional on the current xmin value.\n",
    "  pl$setPars(estimate_pars(pl))\n",
    "  \n",
    "  line_fit <- power_law_line(pl) \n",
    "  write.csv(line_fit,paste0(filename,\".line_fit.csv\"))\n",
    "  #plot\n",
    "  img <- ggplot(counts, aes(Copy, Frequency)) +\n",
    "    geom_point(col='blue', size=2) +\n",
    "    geom_line(data=line_fit, aes(x_axis, y), col='red', size=1.5) + theme_bw() +\n",
    "                  labels=trans_format('log10', math_format(10^.x)),limits = c(0.8,1e+7)) +\n",
    "    scale_y_log10(breaks=trans_breaks('log10', function(x) 10^x),\n",
    "                  labels=trans_format('log10', math_format(10^.x)),limits = c(0.8,1e+7)) +\n",
    "    xlab(\"Copy Number\") + ylab(\"Frequency\") +\n",
    "    annotate('text', x=70, y=70, label=paste(expression(alpha), '== ',\n",
    "                                             format(round(pl$pars, 2), nsmall=2)), col='red', size=3.0, parse=TRUE)\n",
    "  print(img)\n",
    "  invisible(dev.off())\n",
    "}\n",
    "\n",
    "#export plots\n",
    "plot_power_law(\"sample_hs.mapQ25.ex.fastaptamer_count\")"
   ]
  },
  {
   "cell_type": "markdown",
   "metadata": {},
   "source": [
    "Extract enriched sequences (removing background sequences) for clustering purpose\n",
    "Input file 1: sample_hs.mapQ25.ex.fastaptamer_count.fa\n",
    "Input file 2: line_fit csv file printed out from plot_power_law"
   ]
  },
  {
   "cell_type": "code",
   "execution_count": null,
   "metadata": {},
   "outputs": [],
   "source": [
    "#!/usr/bin/python\n",
    "import sys, getopt\n",
    "def open_file(arg):                                         \n",
    "    input_file=\"\"                                          \n",
    "    output_file=\"\"\n",
    "    #parsing command line (structure)\n",
    "    try:\n",
    "        a, b = getopt.getopt(arg,\"h:i1:i2:o:\",[\"input1=\",\"input2=\",\"output=\"]) #getopt returns (option letters, value) pairs and arguments\n",
    "    except getopt.GetoptError:                              #if not getting options, print a line below\n",
    "        print(\"file_name.py <input1> <input2> <output>\\n\")\n",
    "        print(\"--input1: sample_hs.mapQ25.ex.fastaptamer_count.fa\\n\")\n",
    "        print(\"--input2: sample_hs.mapQ25.ex.fastaptamer_count.line_fit.csv\\n\")\n",
    "        print(\"--output: cut-off_sequences.fa\")\n",
    "        sys.exit(2)                                         #exit from Python with Unix \n",
    "    # input and output file?\n",
    "    for option,value in a:\n",
    "        if option == \"-h\":\n",
    "            print (\"file_name.py <input1> <input2> <output>\\n\")\n",
    "            print(\"--input1: sample_hs.mapQ25.ex.fastaptamer_count.fa\\n\")\n",
    "            print(\"--input2: sample_hs.mapQ25.ex.fastaptamer_count.line_fit.csv\\n\")\n",
    "            print(\"--output: cut-off_sequences.fa\")\n",
    "            sys.exit()\n",
    "        elif option in (\"-i1\",\"--input1\"):\n",
    "            input_file1 = value\n",
    "        elif option in (\"-i2\",\"--input2\"):\n",
    "            input_file2 = value\n",
    "        elif option in (\"-o\",\"--output\"):\n",
    "            output_file = value           \n",
    "        \n",
    "if __name__ == \"__main__\":\n",
    "    from Bio import SeqIO\n",
    "    open_file(sys.argv[1:])\n",
    "    f = open(sys.argv[1],\"rtU\")\n",
    "    g = open(sys.argv[2],\"rtU\")\n",
    "    h = open(sys.argv[3],\"w\")\n",
    "    col2 = []\n",
    "    for line in g:\n",
    "        col2.append(line.split(\",\")[1])\n",
    "    copy_number = int(col2[-1])\n",
    "    for sequence in SeqIO.parse(f,\"fasta\"):\n",
    "        a = int(sequence.id.split(\"-\")[1])\n",
    "        if a > copy_number:\n",
    "            h.write (str(\">\"+sequence.id+\"\\n\"+sequence.seq+\"\\n\"))\n",
    "    f.close()\n",
    "    g.close()\n",
    "    h.close()"
   ]
  },
  {
   "cell_type": "code",
   "execution_count": null,
   "metadata": {
    "run_control": {
     "marked": true
    }
   },
   "outputs": [],
   "source": [
    "%%bash\n",
    "./extract_enrich.py -f sample_hs.mapQ25.ex.fastaptamer_count.fa -c sample_hs.mapQ25.ex.fastaptamer_count.line_fit.csv -o cut_off_sequences.fa"
   ]
  },
  {
   "cell_type": "code",
   "execution_count": null,
   "metadata": {},
   "outputs": [],
   "source": [
    "%%bash\n",
    "fastaptamer_cluster -i cut_off_sequences.fa -o cut_off_cluster.fa -d 40"
   ]
  },
  {
   "cell_type": "code",
   "execution_count": null,
   "metadata": {},
   "outputs": [],
   "source": [
    "%%bash\n",
    "perl fasta_to_fastq.pl cut_off_cluster.fa > cut_off_cluster.fq\n",
    "velveth assembly 25 -short -fastq cut_off_cluster.fq\n",
    "velvetg assembly/"
   ]
  }
 ],
 "metadata": {
  "hide_input": false,
  "kernelspec": {
   "display_name": "Python 3",
   "language": "python",
   "name": "python3"
  },
  "language_info": {
   "codemirror_mode": {
    "name": "ipython",
    "version": 3
   },
   "file_extension": ".py",
   "mimetype": "text/x-python",
   "name": "python",
   "nbconvert_exporter": "python",
   "pygments_lexer": "ipython3",
   "version": "3.7.3"
  }
 },
 "nbformat": 4,
 "nbformat_minor": 2
}
