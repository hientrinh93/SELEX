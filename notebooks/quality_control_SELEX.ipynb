{
 "cells": [
  {
   "cell_type": "markdown",
   "metadata": {
    "collapsed": true,
    "hide_input": true
   },
   "source": [
    "# Quality control\n",
    "<br>\n",
    "<div style=\"text-align: justify\">SELEX was carried out with a 10 fold excess of DNA by Indu Patwal (2014) over histone octamer and samples from:\n",
    "    <br>- The initial library (round 0)\n",
    "    <br>- After adapter ligation (the initial SELEX input)\n",
    "    <br>- Output from rounds 1,3 and 6\n",
    "<br>13 files in total were submitted to the EMBL sequencing service. \n",
    "<br>\n",
    "This is a quality control step of raw sequencing data from SELEX. The raw data of Illumina sequencing are paired-end reads in FASTQ files, which were further filtered to yield better results for downstream analysis by removing 5’ adapters ligated in SELEX library preparation and trimming low-quality 3’ ends with threshold 20.</div>"
   ]
  },
  {
   "cell_type": "markdown",
   "metadata": {},
   "source": [
    "The first step is to generate QC report of paired-end fastq files (sample_1_sequence.txt.gz and sample_2_sequence.txt.gz)"
   ]
  },
  {
   "cell_type": "code",
   "execution_count": 2,
   "metadata": {
    "hide_input": true
   },
   "outputs": [
    {
     "data": {
      "text/html": [
       "<style>.prompt{width: 0px; min-width: 0px; visibility: collapse}</style>"
      ],
      "text/plain": [
       "<IPython.core.display.HTML object>"
      ]
     },
     "metadata": {},
     "output_type": "display_data"
    }
   ],
   "source": [
    "from IPython.core.display import display,HTML\n",
    "display(HTML('<style>.prompt{width: 0px; min-width: 0px; visibility: collapse}</style>'))"
   ]
  },
  {
   "cell_type": "code",
   "execution_count": null,
   "metadata": {
    "hide_input": false,
    "run_control": {
     "marked": true
    }
   },
   "outputs": [],
   "source": [
    "%%bash\n",
    "fastqc sample_1_sequence.txt\n",
    "fastqc sample_2_sequence.txt"
   ]
  },
  {
   "cell_type": "markdown",
   "metadata": {},
   "source": [
    "[Cutadapt](https://cutadapt.readthedocs.io/en/stable/) trimmed regular 5' adapters when we used -g and -G parameters. The reads can be seen below:\n",
    "<br>ADAPTER*mysequence*\n",
    "<br>DAPTER*mysequence*\n",
    "<br>TER*mysequence*\n",
    "<br>somethingADAPTER*mysequence*\n",
    "<br>After removal, all of them became _mysequence_"
   ]
  },
  {
   "cell_type": "code",
   "execution_count": 1,
   "metadata": {},
   "outputs": [
    {
     "name": "stdout",
     "output_type": "stream",
     "text": [
      "cutadapt version 1.18\n",
      "\n",
      "Copyright (C) 2010-2018 Marcel Martin <marcel.martin@scilifelab.se>\n",
      "\n",
      "cutadapt removes adapter sequences from high-throughput sequencing reads.\n",
      "\n",
      "Usage:\n",
      "    cutadapt -a ADAPTER [options] [-o output.fastq] input.fastq\n",
      "\n",
      "For paired-end reads:\n",
      "    cutadapt -a ADAPT1 -A ADAPT2 [options] -o out1.fastq -p out2.fastq in1.fastq in2.fastq\n",
      "\n",
      "Replace \"ADAPTER\" with the actual sequence of your 3' adapter. IUPAC wildcard\n",
      "characters are supported. The reverse complement is *not* automatically\n",
      "searched. All reads from input.fastq will be written to output.fastq with the\n",
      "adapter sequence removed. Adapter matching is error-tolerant. Multiple adapter\n",
      "sequences can be given (use further -a options), but only the best-matching\n",
      "adapter will be removed.\n",
      "\n",
      "Input may also be in FASTA format. Compressed input and output is supported and\n",
      "auto-detected from the file name (.gz, .xz, .bz2). Use the file name '-' for\n",
      "standard input/output. Without the -o option, output is sent to standard output.\n",
      "\n",
      "Citation:\n",
      "\n",
      "Marcel Martin. Cutadapt removes adapter sequences from high-throughput\n",
      "sequencing reads. EMBnet.Journal, 17(1):10-12, May 2011.\n",
      "http://dx.doi.org/10.14806/ej.17.1.200\n",
      "\n",
      "Run \"cutadapt --help\" to see all command-line options.\n",
      "See https://cutadapt.readthedocs.io/ for full documentation.\n",
      "\n",
      "Options:\n",
      "  --version             show program's version number and exit\n",
      "  -h, --help            show this help message and exit\n",
      "  --debug               Print debugging information.\n",
      "  -f FORMAT, --format=FORMAT\n",
      "                        Input file format; can be either 'fasta', 'fastq' or\n",
      "                        'sra-fastq'. Ignored when reading csfasta/qual files.\n",
      "                        Default: auto-detect from file name extension.\n",
      "  -j CORES, --cores=CORES\n",
      "                        Number of CPU cores to use. Use 0 to auto-detect.\n",
      "                        Default: 1\n",
      "\n",
      "  Finding adapters:\n",
      "    Parameters -a, -g, -b specify adapters to be removed from each read\n",
      "    (or from the first read in a pair if data is paired). If specified\n",
      "    multiple times, only the best matching adapter is trimmed (but see the\n",
      "    --times option). When the special notation 'file:FILE' is used,\n",
      "    adapter sequences are read from the given FASTA file.\n",
      "\n",
      "    -a ADAPTER, --adapter=ADAPTER\n",
      "                        Sequence of an adapter ligated to the 3' end (paired\n",
      "                        data: of the first read). The adapter and subsequent\n",
      "                        bases are trimmed. If a '$' character is appended\n",
      "                        ('anchoring'), the adapter is only found if it is a\n",
      "                        suffix of the read.\n",
      "    -g ADAPTER, --front=ADAPTER\n",
      "                        Sequence of an adapter ligated to the 5' end (paired\n",
      "                        data: of the first read). The adapter and any\n",
      "                        preceding bases are trimmed. Partial matches at the 5'\n",
      "                        end are allowed. If a '^' character is prepended\n",
      "                        ('anchoring'), the adapter is only found if it is a\n",
      "                        prefix of the read.\n",
      "    -b ADAPTER, --anywhere=ADAPTER\n",
      "                        Sequence of an adapter that may be ligated to the 5'\n",
      "                        or 3' end (paired data: of the first read). Both types\n",
      "                        of matches as described under -a und -g are allowed.\n",
      "                        If the first base of the read is part of the match,\n",
      "                        the behavior is as with -g, otherwise as with -a. This\n",
      "                        option is mostly for rescuing failed library\n",
      "                        preparations - do not use if you know which end your\n",
      "                        adapter was ligated to!\n",
      "    -e RATE, --error-rate=RATE\n",
      "                        Maximum allowed error rate as value between 0 and 1\n",
      "                        (no. of errors divided by length of matching region).\n",
      "                        Default: 0.1 (=10%)\n",
      "    --no-indels         Allow only mismatches in alignments. Default: allow\n",
      "                        both mismatches and indels\n",
      "    -n COUNT, --times=COUNT\n",
      "                        Remove up to COUNT adapters from each read. Default: 1\n",
      "    -O MINLENGTH, --overlap=MINLENGTH\n",
      "                        Require MINLENGTH overlap between read and adapter for\n",
      "                        an adapter to be found. Default: 3\n",
      "    --match-read-wildcards\n",
      "                        Interpret IUPAC wildcards in reads. Default: False\n",
      "    -N, --no-match-adapter-wildcards\n",
      "                        Do not interpret IUPAC wildcards in adapters.\n",
      "    --action=ACTION     What to do with found adapters. trim: remove; mask:\n",
      "                        replace with 'N' characters; none: leave unchanged\n",
      "                        (useful with --discard-untrimmed). Default: trim\n",
      "    --no-trim           Deprecated synonym for --action=none\n",
      "    --mask-adapter      Deprecated synonym for --action=mask\n",
      "\n",
      "  Additional read modifications:\n",
      "    -u LENGTH, --cut=LENGTH\n",
      "                        Remove bases from each read (first read only if\n",
      "                        paired). If LENGTH is positive, remove bases from the\n",
      "                        beginning. If LENGTH is negative, remove bases from\n",
      "                        the end. Can be used twice if LENGTHs have different\n",
      "                        signs. This is applied *before* adapter trimming.\n",
      "    --nextseq-trim=3'CUTOFF\n",
      "                        NextSeq-specific quality trimming (each read). Trims\n",
      "                        also dark cycles appearing as high-quality G bases.\n",
      "    -q [5'CUTOFF,]3'CUTOFF, --quality-cutoff=[5'CUTOFF,]3'CUTOFF\n",
      "                        Trim low-quality bases from 5' and/or 3' ends of each\n",
      "                        read before adapter removal. Applied to both reads if\n",
      "                        data is paired. If one value is given, only the 3' end\n",
      "                        is trimmed. If two comma-separated cutoffs are given,\n",
      "                        the 5' end is trimmed with the first cutoff, the 3'\n",
      "                        end with the second.\n",
      "    --quality-base=N    Assume that quality values in FASTQ are encoded as\n",
      "                        ascii(quality + N). This needs to be set to 64 for\n",
      "                        some old Illumina FASTQ files. Default: 33\n",
      "    -l LENGTH, --length=LENGTH\n",
      "                        Shorten reads to LENGTH. Positive values remove bases\n",
      "                        at the end while negative ones remove bases at the\n",
      "                        beginning. This and the following modifications are\n",
      "                        applied after adapter trimming.\n",
      "    --trim-n            Trim N's on ends of reads.\n",
      "    --length-tag=TAG    Search for TAG followed by a decimal number in the\n",
      "                        description field of the read. Replace the decimal\n",
      "                        number with the correct length of the trimmed read.\n",
      "                        For example, use --length-tag 'length=' to correct\n",
      "                        fields like 'length=123'.\n",
      "    --strip-suffix=STRIP_SUFFIX\n",
      "                        Remove this suffix from read names if present. Can be\n",
      "                        given multiple times.\n",
      "    -x PREFIX, --prefix=PREFIX\n",
      "                        Add this prefix to read names. Use {name} to insert\n",
      "                        the name of the matching adapter.\n",
      "    -y SUFFIX, --suffix=SUFFIX\n",
      "                        Add this suffix to read names; can also include {name}\n",
      "\n",
      "  Filtering of processed reads:\n",
      "    Filters are applied after above read modifications. Paired-end reads\n",
      "    are always discarded pairwise (see also --pair-filter).\n",
      "\n",
      "    -m LEN[:LEN2], --minimum-length=LEN[:LEN2]\n",
      "                        Discard reads shorter than LEN. Default: 0\n",
      "    -M LEN[:LEN2], --maximum-length=LEN[:LEN2]\n",
      "                        Discard reads longer than LEN. Default: no limit\n",
      "    --max-n=COUNT       Discard reads with more than COUNT 'N' bases. If COUNT\n",
      "                        is a number between 0 and 1, it is interpreted as a\n",
      "                        fraction of the read length.\n",
      "    --discard-trimmed, --discard\n",
      "                        Discard reads that contain an adapter. Also use -O to\n",
      "                        avoid discarding too many randomly matching reads!\n",
      "    --discard-untrimmed, --trimmed-only\n",
      "                        Discard reads that do not contain an adapter.\n",
      "    --discard-casava    Discard reads that did not pass CASAVA filtering\n",
      "                        (header has :Y:).\n",
      "\n",
      "  Output:\n",
      "    --quiet             Print only error messages.\n",
      "    --report=REPORT     Which type of report to print. Default: full\n",
      "    -o FILE, --output=FILE\n",
      "                        Write trimmed reads to FILE. FASTQ or FASTA format is\n",
      "                        chosen depending on input. The summary report is sent\n",
      "                        to standard output. Use '{name}' in FILE to\n",
      "                        demultiplex reads into multiple files. Default: write\n",
      "                        to standard output\n",
      "    --info-file=FILE    Write information about each read and its adapter\n",
      "                        matches into FILE. See the documentation for the file\n",
      "                        format.\n",
      "    -r FILE, --rest-file=FILE\n",
      "                        When the adapter matches in the middle of a read,\n",
      "                        write the rest (after the adapter) to FILE.\n",
      "    --wildcard-file=FILE\n",
      "                        When the adapter has N wildcard bases, write adapter\n",
      "                        bases matching wildcard positions to FILE. (Inaccurate\n",
      "                        with indels.)\n",
      "    --too-short-output=FILE\n",
      "                        Write reads that are too short (according to length\n",
      "                        specified by -m) to FILE. Default: discard reads\n",
      "    --too-long-output=FILE\n",
      "                        Write reads that are too long (according to length\n",
      "                        specified by -M) to FILE. Default: discard reads\n",
      "    --untrimmed-output=FILE\n",
      "                        Write reads that do not contain any adapter to FILE.\n",
      "                        Default: output to same file as trimmed reads\n",
      "\n",
      "  Colorspace options:\n",
      "    -c, --colorspace    Enable colorspace mode\n",
      "    -d, --double-encode\n",
      "                        Double-encode colors (map 0,1,2,3,4 to A,C,G,T,N).\n",
      "    -t, --trim-primer   Trim primer base and the first color\n",
      "    --strip-f3          Strip the _F3 suffix of read names\n",
      "    --maq, --bwa        MAQ- and BWA-compatible colorspace output. This\n",
      "                        enables -c, -d, -t, --strip-f3 and -y '/1'.\n",
      "    -z, --zero-cap      Change negative quality values to zero. Enabled by\n",
      "                        default in colorspace mode since many tools have\n",
      "                        problems with negative qualities\n",
      "    --no-zero-cap       Disable zero capping\n",
      "\n",
      "  Paired-end options:\n",
      "    The -A/-G/-B/-U options work like their -a/-b/-g/-u counterparts, but\n",
      "    are applied to the second read in each pair.\n",
      "\n",
      "    -A ADAPTER          3' adapter to be removed from second read in a pair.\n",
      "    -G ADAPTER          5' adapter to be removed from second read in a pair.\n",
      "    -B ADAPTER          5'/3 adapter to be removed from second read in a pair.\n",
      "    -U LENGTH           Remove LENGTH bases from second read in a pair.\n",
      "    -p FILE, --paired-output=FILE\n",
      "                        Write second read in a pair to FILE.\n",
      "    --pair-filter=(any|both|first)\n",
      "                        Which of the reads in a paired-end read have to match\n",
      "                        the filtering criterion in order for the pair to be\n",
      "                        filtered. Default: any\n",
      "    --interleaved       Read and write interleaved paired-end reads.\n",
      "    --untrimmed-paired-output=FILE\n",
      "                        Write second read in a pair to this FILE when no\n",
      "                        adapter was found. Use with --untrimmed-output.\n",
      "                        Default: output to same file as trimmed reads\n",
      "    --too-short-paired-output=FILE\n",
      "                        Write second read in a pair to this file if pair is\n",
      "                        too short. Use also --too-short-output.\n",
      "    --too-long-paired-output=FILE\n",
      "                        Write second read in a pair to this file if pair is\n",
      "                        too long. Use also --too-long-output.\n"
     ]
    }
   ],
   "source": [
    "%%bash\n",
    "cutadapt --help"
   ]
  },
  {
   "cell_type": "markdown",
   "metadata": {},
   "source": [
    "To get potential nucleosomal DNA fragments, which would be ~147 bp in length, we gave priority to remove SELEX adapter first, and then to obtain 60 to 80 bp of reads. We did not trim a few bases at the 3' end before because if we did that, we would not know how long we should trim to collect highly potential nucleosomal DNAs. Unfortunately, Cutadapt generally understands trimming low quality at 3' end before adapter removal, so we had to remove SELEX adapter and then filter reads from 60 to 80 bp long at the same time, which preceded 3' end trimming. Output files from the first quality control are sample_1_QC1.fq.gz and sample_2_QC1.fq.gz"
   ]
  },
  {
   "cell_type": "code",
   "execution_count": null,
   "metadata": {
    "hide_input": false
   },
   "outputs": [],
   "source": [
    "%%bash\n",
    "cutadapt -g GTCATAGCTGTTTCCTGTGTGAT -G GTCATAGCTGTTTCCTGTGTGAT --minimum-length 60 --maximum-length 80 -o sample_1_QC1.fq.gz -p sample_2_QC1.fq.gz sample_1_sequence.txt.gz sample_2_sequence.txt.gz"
   ]
  },
  {
   "cell_type": "markdown",
   "metadata": {},
   "source": [
    "After that, Cutadapt trimmed low quality from 3' end with quality score 20 to keep reads of high quality score (See [algorithm](https://cutadapt.readthedocs.io/en/stable/algorithms.html#quality-trimming-algorithm))"
   ]
  },
  {
   "cell_type": "code",
   "execution_count": null,
   "metadata": {},
   "outputs": [],
   "source": [
    "%%bash\n",
    "cutadapt -q 20 -o sample_1_QC2.fq.gz -p sample_2_QC2.fq.gz sample_1_QC1.fq.gz sample_2_QC1.fq.gz"
   ]
  },
  {
   "cell_type": "markdown",
   "metadata": {},
   "source": [
    "Final output files sample_1_QC2.fq.gz and sample_2_QC2.fq.gz were double-checked by FASTQC, which gave html reports"
   ]
  },
  {
   "cell_type": "code",
   "execution_count": null,
   "metadata": {},
   "outputs": [],
   "source": [
    "%%bash\n",
    "fastqc sample_1_QC2.fq.gz\n",
    "fastqc sample_2_QC2.fq.gz"
   ]
  }
 ],
 "metadata": {
  "hide_input": false,
  "kernelspec": {
   "display_name": "Python 3",
   "language": "python",
   "name": "python3"
  },
  "language_info": {
   "codemirror_mode": {
    "name": "ipython",
    "version": 3
   },
   "file_extension": ".py",
   "mimetype": "text/x-python",
   "name": "python",
   "nbconvert_exporter": "python",
   "pygments_lexer": "ipython3",
   "version": "3.7.3"
  }
 },
 "nbformat": 4,
 "nbformat_minor": 2
}
