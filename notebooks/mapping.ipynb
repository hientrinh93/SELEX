{
 "cells": [
  {
   "cell_type": "markdown",
   "metadata": {},
   "source": [
    "# Mapping reads after quality control\n",
    "\n",
    "## 1. Mapping to human reference genome\n",
    "<br>\n",
    "Download human reference genome GRCh37: https://www.ncbi.nlm.nih.gov/grc/human/data?asm=GRCh37.p5, merging chromosome sequences and saving them as hs_ref_GRCh37.p5.fa\n",
    "<br>\n",
    "<br>\n",
    "<strong> Index human reference genome:</strong>"
   ]
  },
  {
   "cell_type": "code",
   "execution_count": null,
   "metadata": {},
   "outputs": [],
   "source": [
    "%%bash\n",
    "bowtie2-build hs_ref_GRCh37.p5.fa hsGRCh37"
   ]
  },
  {
   "cell_type": "markdown",
   "metadata": {},
   "source": [
    "Bowtie index created 6 files:<br>\n",
    "hsGRCh37.1.bt2<br>\n",
    "hsGRCh37.2.bt2<br>\n",
    "hsGRCh37.3.bt2<br>\n",
    "hsGRCh37.4.bt2<br>\n",
    "hsGRCh37.rev.1.bt2<br>\n",
    "hsGRCh37.rev.2.bt2<br>"
   ]
  },
  {
   "cell_type": "markdown",
   "metadata": {},
   "source": [
    "<strong> Mapping and sorting .bam file</strong>"
   ]
  },
  {
   "cell_type": "code",
   "execution_count": null,
   "metadata": {},
   "outputs": [],
   "source": [
    "%%bash\n",
    "bowtie2 --local --no-contain -x hsGRCh37 -1 sample_1_QC2.fq.gz -2 sample_2_QC2.fq.gz -S sample_hs.sam\n",
    "samtools view -bS -f 2 sample_hs.sam  | samtools sort - sample_hs.sorted"
   ]
  },
  {
   "cell_type": "markdown",
   "metadata": {},
   "source": [
    "Output is sample_hs.sorted.bam\n",
    "<br>\n",
    "We extracted the mapped paired-end reads having mapping quality score more than 25 "
   ]
  },
  {
   "cell_type": "code",
   "execution_count": null,
   "metadata": {},
   "outputs": [],
   "source": [
    "%%bash\n",
    "samtools view -h -q 25 -b sample_hs.sorted.bam -o sample_hs.sorted.mapQ25.bam"
   ]
  },
  {
   "cell_type": "markdown",
   "metadata": {},
   "source": [
    "The length of mapped sequence fragments was observed, making the cumulative distribution plot:"
   ]
  },
  {
   "cell_type": "code",
   "execution_count": null,
   "metadata": {},
   "outputs": [],
   "source": [
    "%%bash\n",
    "samtools view sample_hs.sorted.mapQ25.bam | awk '$9 > 0 {print $9}' - > sample_hs_fragment_length"
   ]
  },
  {
   "cell_type": "code",
   "execution_count": 16,
   "metadata": {},
   "outputs": [
    {
     "name": "stdout",
     "output_type": "stream",
     "text": [
      "The rpy2.ipython extension is already loaded. To reload it, use:\n",
      "  %reload_ext rpy2.ipython\n"
     ]
    }
   ],
   "source": [
    "%load_ext rpy2.ipython"
   ]
  },
  {
   "cell_type": "code",
   "execution_count": 24,
   "metadata": {},
   "outputs": [],
   "source": [
    "%%R\n",
    "install.packages(\"ggplot2\")\n",
    "library(ggplot2)\n",
    "library(reshape2)\n",
    "library(dplyr)\n",
    "CDF_plot <- function(filename){\n",
    "  bitmap(paste0(\"/Users/hien/OneDrive - National University of Ireland, Galway/Documents/R/indu/cumulative_freq_plot/\",filename,\".tiff\"), res = 600)\n",
    "  data <- read.table(paste0(\"/Users/hien/OneDrive - National University of Ireland, Galway/Documents/R/indu/box_plot/box_plot_sample_2A/test_\",filename), header = TRUE)\n",
    "  colnames(data) <- c(\"fragment_length\")\n",
    "  samples <- rep(filename,nrow(data))\n",
    "  data <- cbind(samples,data)\n",
    "  new_data <- data %>% filter(fragment_length %in% (90:220))\n",
    "  img <- ggplot(new_data, aes(x = new_data$fragment_length),linetype=3) +\n",
    "    stat_ecdf() +\n",
    "    theme_bw() +\n",
    "    xlab(\"mapped fragment length\") +\n",
    "    scale_x_continuous(breaks=c(0,90,100,110,120,130,140,150,160,170,180,190,200,210,220))\n",
    "  print(img)\n",
    "  invisible(dev.off())\n",
    "}"
   ]
  },
  {
   "cell_type": "code",
   "execution_count": 25,
   "metadata": {},
   "outputs": [],
   "source": [
    "%%R\n",
    "CDF_plot(\"2A_fragment_length\")"
   ]
  },
  {
   "cell_type": "markdown",
   "metadata": {},
   "source": [
    "## 2. Mapping to 601.0N0 \n",
    "CTGGAGAATCCCGGTGCCGAGGCCGCTCAATTGGTCGTAGACAGCTCTAGCACCGCTTAAACGCACGTACGCGCTGTCCCCCGCGTTTTAACCGCCAAGGGGATTACTCCCTAGTCTCCAGGCACGTGTCAGATATATACATCCTGT\n",
    "<br>\n",
    "<br>\n",
    "<strong>Index 601.0N0:</strong>"
   ]
  },
  {
   "cell_type": "code",
   "execution_count": null,
   "metadata": {},
   "outputs": [],
   "source": [
    "%%bash\n",
    "bowtie2-build 601.0N0.fa 601.0N0"
   ]
  },
  {
   "cell_type": "markdown",
   "metadata": {},
   "source": [
    "## 3. Mapping to 601.2.0W0 \n",
    "CTGCAGAAGCTTGGTCCCGGGGCCGCTCAATTGGTCGTAGCAAGCTCTAGATCCGCTTAATCGAACGTACGCGCTGTCCCCCGCGTTTTAACCGCCAAGGGGATTACTCCCTAGTCTCCAGGCACGTGTCAGATATATACATCCTGT\n",
    "<br>\n",
    "<br>\n",
    "<strong>Index 601.2.0W0:</strong>"
   ]
  },
  {
   "cell_type": "code",
   "execution_count": null,
   "metadata": {},
   "outputs": [],
   "source": [
    "%%bash\n",
    "bowtie2-build 601.2.0W0.fa 601.2.0W0"
   ]
  },
  {
   "cell_type": "markdown",
   "metadata": {},
   "source": [
    "## 4. Mapping to mmtvNucA\n",
    "ACTTGCAACAGTCCTAACATTCACCTCTTGTGTGTTTGTGTCTGTTCGCCATCCCGTCTCCGCTCGTCACTTATCCTTCACTTTCCAGAGGGTCCCCCCGCAGACCCCGGCGACCCTCAGGTCGGCCGACTGCGGCACAGTTTTTTG \n",
    "<br>\n",
    "<br>\n",
    "<strong>Index mmtvNucA:</strong>"
   ]
  },
  {
   "cell_type": "code",
   "execution_count": null,
   "metadata": {},
   "outputs": [],
   "source": [
    "%%bash\n",
    "bowtie2-build mmtvNucA.fa mmtvNucA"
   ]
  }
 ],
 "metadata": {
  "hide_input": false,
  "kernelspec": {
   "display_name": "Python 3",
   "language": "python",
   "name": "python3"
  },
  "language_info": {
   "codemirror_mode": {
    "name": "ipython",
    "version": 3
   },
   "file_extension": ".py",
   "mimetype": "text/x-python",
   "name": "python",
   "nbconvert_exporter": "python",
   "pygments_lexer": "ipython3",
   "version": "3.7.3"
  }
 },
 "nbformat": 4,
 "nbformat_minor": 2
}
